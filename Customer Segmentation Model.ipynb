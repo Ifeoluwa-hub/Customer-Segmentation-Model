{
 "cells": [
  {
   "cell_type": "markdown",
   "id": "9c7f472d-fddf-49fd-91df-3e582c11a109",
   "metadata": {},
   "source": [
    "### Customer Segmentation - RFM Model\n",
    "RFM Analysis is a data-driven customer segmentation technique that aims to cluster different customers into groups based on their transactional data , particularly based on how recently they have transacted (Recency), how frequently they typically transact (Frequency), and how much they have spent so far (Monetary Value). \n",
    "\n",
    "The result of this Analysis can help businesses to identify their customer's behavior and also make decisons based on these attributes."
   ]
  },
  {
   "cell_type": "code",
   "execution_count": 197,
   "id": "d82cb76f-e798-4675-9beb-e650387a173f",
   "metadata": {},
   "outputs": [],
   "source": [
    "# import libraries\n",
    "import pandas as pd\n",
    "import numpy as np\n",
    "import seaborn as sns\n",
    "import datetime\n",
    "import warnings\n",
    "import seaborn as sns\n",
    "import matplotlib.pyplot as plt\n",
    "from sklearn.cluster import KMeans\n",
    "warnings.filterwarnings(\"ignore\")"
   ]
  },
  {
   "cell_type": "code",
   "execution_count": 198,
   "id": "86bd1368-92a4-424a-b61a-89d2cebd575a",
   "metadata": {},
   "outputs": [
    {
     "data": {
      "text/html": [
       "<div>\n",
       "<style scoped>\n",
       "    .dataframe tbody tr th:only-of-type {\n",
       "        vertical-align: middle;\n",
       "    }\n",
       "\n",
       "    .dataframe tbody tr th {\n",
       "        vertical-align: top;\n",
       "    }\n",
       "\n",
       "    .dataframe thead th {\n",
       "        text-align: right;\n",
       "    }\n",
       "</style>\n",
       "<table border=\"1\" class=\"dataframe\">\n",
       "  <thead>\n",
       "    <tr style=\"text-align: right;\">\n",
       "      <th></th>\n",
       "      <th>Invoice</th>\n",
       "      <th>StockCode</th>\n",
       "      <th>Description</th>\n",
       "      <th>Quantity</th>\n",
       "      <th>InvoiceDate</th>\n",
       "      <th>Price</th>\n",
       "      <th>Customer ID</th>\n",
       "      <th>Country</th>\n",
       "    </tr>\n",
       "  </thead>\n",
       "  <tbody>\n",
       "    <tr>\n",
       "      <th>0</th>\n",
       "      <td>489434</td>\n",
       "      <td>85048</td>\n",
       "      <td>15CM CHRISTMAS GLASS BALL 20 LIGHTS</td>\n",
       "      <td>12</td>\n",
       "      <td>1.12.2009 07:45</td>\n",
       "      <td>6,95</td>\n",
       "      <td>13085.0</td>\n",
       "      <td>United Kingdom</td>\n",
       "    </tr>\n",
       "    <tr>\n",
       "      <th>1</th>\n",
       "      <td>489434</td>\n",
       "      <td>79323P</td>\n",
       "      <td>PINK CHERRY LIGHTS</td>\n",
       "      <td>12</td>\n",
       "      <td>1.12.2009 07:45</td>\n",
       "      <td>6,75</td>\n",
       "      <td>13085.0</td>\n",
       "      <td>United Kingdom</td>\n",
       "    </tr>\n",
       "    <tr>\n",
       "      <th>2</th>\n",
       "      <td>489434</td>\n",
       "      <td>79323W</td>\n",
       "      <td>WHITE CHERRY LIGHTS</td>\n",
       "      <td>12</td>\n",
       "      <td>1.12.2009 07:45</td>\n",
       "      <td>6,75</td>\n",
       "      <td>13085.0</td>\n",
       "      <td>United Kingdom</td>\n",
       "    </tr>\n",
       "    <tr>\n",
       "      <th>3</th>\n",
       "      <td>489434</td>\n",
       "      <td>22041</td>\n",
       "      <td>RECORD FRAME 7\" SINGLE SIZE</td>\n",
       "      <td>48</td>\n",
       "      <td>1.12.2009 07:45</td>\n",
       "      <td>2,1</td>\n",
       "      <td>13085.0</td>\n",
       "      <td>United Kingdom</td>\n",
       "    </tr>\n",
       "    <tr>\n",
       "      <th>4</th>\n",
       "      <td>489434</td>\n",
       "      <td>21232</td>\n",
       "      <td>STRAWBERRY CERAMIC TRINKET BOX</td>\n",
       "      <td>24</td>\n",
       "      <td>1.12.2009 07:45</td>\n",
       "      <td>1,25</td>\n",
       "      <td>13085.0</td>\n",
       "      <td>United Kingdom</td>\n",
       "    </tr>\n",
       "  </tbody>\n",
       "</table>\n",
       "</div>"
      ],
      "text/plain": [
       "  Invoice StockCode                          Description  Quantity  \\\n",
       "0  489434     85048  15CM CHRISTMAS GLASS BALL 20 LIGHTS        12   \n",
       "1  489434    79323P                   PINK CHERRY LIGHTS        12   \n",
       "2  489434    79323W                  WHITE CHERRY LIGHTS        12   \n",
       "3  489434     22041         RECORD FRAME 7\" SINGLE SIZE         48   \n",
       "4  489434     21232       STRAWBERRY CERAMIC TRINKET BOX        24   \n",
       "\n",
       "       InvoiceDate Price  Customer ID         Country  \n",
       "0  1.12.2009 07:45  6,95      13085.0  United Kingdom  \n",
       "1  1.12.2009 07:45  6,75      13085.0  United Kingdom  \n",
       "2  1.12.2009 07:45  6,75      13085.0  United Kingdom  \n",
       "3  1.12.2009 07:45   2,1      13085.0  United Kingdom  \n",
       "4  1.12.2009 07:45  1,25      13085.0  United Kingdom  "
      ]
     },
     "execution_count": 198,
     "metadata": {},
     "output_type": "execute_result"
    }
   ],
   "source": [
    "# Import Data\n",
    "data = pd.read_csv(r\"C:\\Users\\osaso\\Desktop\\Project\\archive\\online_retail_listing.csv\", sep=';', encoding= 'unicode_escape')\n",
    "data.head()"
   ]
  },
  {
   "cell_type": "code",
   "execution_count": 199,
   "id": "a4e4f4d0-1e3f-462d-9996-a3a8c7a1941f",
   "metadata": {},
   "outputs": [
    {
     "data": {
      "text/plain": [
       "(1048575, 8)"
      ]
     },
     "execution_count": 199,
     "metadata": {},
     "output_type": "execute_result"
    }
   ],
   "source": [
    "data.shape"
   ]
  },
  {
   "cell_type": "code",
   "execution_count": 200,
   "id": "4ef80d7a-987c-4053-864a-ae40cf3f42b3",
   "metadata": {},
   "outputs": [
    {
     "data": {
      "text/html": [
       "<div>\n",
       "<style scoped>\n",
       "    .dataframe tbody tr th:only-of-type {\n",
       "        vertical-align: middle;\n",
       "    }\n",
       "\n",
       "    .dataframe tbody tr th {\n",
       "        vertical-align: top;\n",
       "    }\n",
       "\n",
       "    .dataframe thead th {\n",
       "        text-align: right;\n",
       "    }\n",
       "</style>\n",
       "<table border=\"1\" class=\"dataframe\">\n",
       "  <thead>\n",
       "    <tr style=\"text-align: right;\">\n",
       "      <th></th>\n",
       "      <th>Quantity</th>\n",
       "      <th>Customer ID</th>\n",
       "    </tr>\n",
       "  </thead>\n",
       "  <tbody>\n",
       "    <tr>\n",
       "      <th>count</th>\n",
       "      <td>1.048575e+06</td>\n",
       "      <td>811893.000000</td>\n",
       "    </tr>\n",
       "    <tr>\n",
       "      <th>mean</th>\n",
       "      <td>9.957525e+00</td>\n",
       "      <td>15324.712265</td>\n",
       "    </tr>\n",
       "    <tr>\n",
       "      <th>std</th>\n",
       "      <td>1.335187e+02</td>\n",
       "      <td>1697.033034</td>\n",
       "    </tr>\n",
       "    <tr>\n",
       "      <th>min</th>\n",
       "      <td>-7.421500e+04</td>\n",
       "      <td>12346.000000</td>\n",
       "    </tr>\n",
       "    <tr>\n",
       "      <th>25%</th>\n",
       "      <td>1.000000e+00</td>\n",
       "      <td>13971.000000</td>\n",
       "    </tr>\n",
       "    <tr>\n",
       "      <th>50%</th>\n",
       "      <td>3.000000e+00</td>\n",
       "      <td>15260.000000</td>\n",
       "    </tr>\n",
       "    <tr>\n",
       "      <th>75%</th>\n",
       "      <td>1.000000e+01</td>\n",
       "      <td>16795.000000</td>\n",
       "    </tr>\n",
       "    <tr>\n",
       "      <th>max</th>\n",
       "      <td>7.421500e+04</td>\n",
       "      <td>18287.000000</td>\n",
       "    </tr>\n",
       "  </tbody>\n",
       "</table>\n",
       "</div>"
      ],
      "text/plain": [
       "           Quantity    Customer ID\n",
       "count  1.048575e+06  811893.000000\n",
       "mean   9.957525e+00   15324.712265\n",
       "std    1.335187e+02    1697.033034\n",
       "min   -7.421500e+04   12346.000000\n",
       "25%    1.000000e+00   13971.000000\n",
       "50%    3.000000e+00   15260.000000\n",
       "75%    1.000000e+01   16795.000000\n",
       "max    7.421500e+04   18287.000000"
      ]
     },
     "execution_count": 200,
     "metadata": {},
     "output_type": "execute_result"
    }
   ],
   "source": [
    "data.describe()"
   ]
  },
  {
   "cell_type": "code",
   "execution_count": 201,
   "id": "4282e859-49d5-4225-a2cd-06a6ba6855c0",
   "metadata": {},
   "outputs": [
    {
     "name": "stdout",
     "output_type": "stream",
     "text": [
      "<class 'pandas.core.frame.DataFrame'>\n",
      "RangeIndex: 1048575 entries, 0 to 1048574\n",
      "Data columns (total 8 columns):\n",
      " #   Column       Non-Null Count    Dtype  \n",
      "---  ------       --------------    -----  \n",
      " 0   Invoice      1048575 non-null  object \n",
      " 1   StockCode    1048575 non-null  object \n",
      " 2   Description  1044203 non-null  object \n",
      " 3   Quantity     1048575 non-null  int64  \n",
      " 4   InvoiceDate  1048575 non-null  object \n",
      " 5   Price        1048575 non-null  object \n",
      " 6   Customer ID  811893 non-null   float64\n",
      " 7   Country      1048575 non-null  object \n",
      "dtypes: float64(1), int64(1), object(6)\n",
      "memory usage: 64.0+ MB\n"
     ]
    }
   ],
   "source": [
    "data.info()"
   ]
  },
  {
   "cell_type": "markdown",
   "id": "fa2168d7-06d2-4592-933e-2cf74d4dd77e",
   "metadata": {},
   "source": [
    "#### Preprocessing"
   ]
  },
  {
   "cell_type": "code",
   "execution_count": 202,
   "id": "09fed391-e344-402d-b8e9-9bb562db808e",
   "metadata": {},
   "outputs": [
    {
     "data": {
      "text/plain": [
       "1042650"
      ]
     },
     "execution_count": 202,
     "metadata": {},
     "output_type": "execute_result"
    }
   ],
   "source": [
    "# check duplicates in Customer ID\n",
    "data['Customer ID'].duplicated().sum()"
   ]
  },
  {
   "cell_type": "code",
   "execution_count": 203,
   "id": "7a277a04-2ebb-4b50-8831-4064a7456dd6",
   "metadata": {},
   "outputs": [
    {
     "data": {
      "text/plain": [
       "5924"
      ]
     },
     "execution_count": 203,
     "metadata": {},
     "output_type": "execute_result"
    }
   ],
   "source": [
    "data['Customer ID'].nunique()"
   ]
  },
  {
   "cell_type": "code",
   "execution_count": 204,
   "id": "925fc59c-a000-42b5-98a3-11c510236fd0",
   "metadata": {},
   "outputs": [
    {
     "data": {
      "text/plain": [
       "52961"
      ]
     },
     "execution_count": 204,
     "metadata": {},
     "output_type": "execute_result"
    }
   ],
   "source": [
    "data['Invoice'].nunique()"
   ]
  },
  {
   "cell_type": "code",
   "execution_count": 205,
   "id": "c34bf9dc-40a3-406a-bf20-bfcf4ca467d9",
   "metadata": {},
   "outputs": [],
   "source": [
    "data['InvoiceDate'] = pd.to_datetime(data['InvoiceDate'])"
   ]
  },
  {
   "cell_type": "code",
   "execution_count": 206,
   "id": "033ddedc-ecbf-475d-897f-b37bef168189",
   "metadata": {},
   "outputs": [
    {
     "data": {
      "text/html": [
       "<div>\n",
       "<style scoped>\n",
       "    .dataframe tbody tr th:only-of-type {\n",
       "        vertical-align: middle;\n",
       "    }\n",
       "\n",
       "    .dataframe tbody tr th {\n",
       "        vertical-align: top;\n",
       "    }\n",
       "\n",
       "    .dataframe thead th {\n",
       "        text-align: right;\n",
       "    }\n",
       "</style>\n",
       "<table border=\"1\" class=\"dataframe\">\n",
       "  <thead>\n",
       "    <tr style=\"text-align: right;\">\n",
       "      <th></th>\n",
       "      <th>Invoice</th>\n",
       "      <th>StockCode</th>\n",
       "      <th>Description</th>\n",
       "      <th>Quantity</th>\n",
       "      <th>InvoiceDate</th>\n",
       "      <th>Price</th>\n",
       "      <th>Customer ID</th>\n",
       "      <th>Country</th>\n",
       "    </tr>\n",
       "  </thead>\n",
       "  <tbody>\n",
       "    <tr>\n",
       "      <th>0</th>\n",
       "      <td>489434</td>\n",
       "      <td>85048</td>\n",
       "      <td>15CM CHRISTMAS GLASS BALL 20 LIGHTS</td>\n",
       "      <td>12</td>\n",
       "      <td>2009-01-12 07:45:00</td>\n",
       "      <td>6,95</td>\n",
       "      <td>13085.0</td>\n",
       "      <td>United Kingdom</td>\n",
       "    </tr>\n",
       "  </tbody>\n",
       "</table>\n",
       "</div>"
      ],
      "text/plain": [
       "  Invoice StockCode                          Description  Quantity  \\\n",
       "0  489434     85048  15CM CHRISTMAS GLASS BALL 20 LIGHTS        12   \n",
       "\n",
       "          InvoiceDate Price  Customer ID         Country  \n",
       "0 2009-01-12 07:45:00  6,95      13085.0  United Kingdom  "
      ]
     },
     "execution_count": 206,
     "metadata": {},
     "output_type": "execute_result"
    }
   ],
   "source": [
    "data.head(1)"
   ]
  },
  {
   "cell_type": "code",
   "execution_count": 207,
   "id": "a4a215f6-e09f-481c-a90e-34076f0edc54",
   "metadata": {},
   "outputs": [],
   "source": [
    "data['Price'] = data['Price'].str.replace(\",\" , \".\")"
   ]
  },
  {
   "cell_type": "code",
   "execution_count": 208,
   "id": "81f909e8-dabb-4647-ad7c-3e7a47967b18",
   "metadata": {},
   "outputs": [
    {
     "data": {
      "text/plain": [
       "Timestamp('2009-01-12 07:45:00')"
      ]
     },
     "execution_count": 208,
     "metadata": {},
     "output_type": "execute_result"
    }
   ],
   "source": [
    "data['InvoiceDate'].min()"
   ]
  },
  {
   "cell_type": "code",
   "execution_count": 209,
   "id": "70705820-2046-4059-8d31-dd0dca30e4df",
   "metadata": {},
   "outputs": [
    {
     "data": {
      "text/plain": [
       "Timestamp('2011-12-10 17:19:00')"
      ]
     },
     "execution_count": 209,
     "metadata": {},
     "output_type": "execute_result"
    }
   ],
   "source": [
    "data['InvoiceDate'].max()"
   ]
  },
  {
   "cell_type": "code",
   "execution_count": 210,
   "id": "1b504b89-813c-4254-af87-c4b64a9c87df",
   "metadata": {},
   "outputs": [
    {
     "data": {
      "text/plain": [
       "(1025878, 8)"
      ]
     },
     "execution_count": 210,
     "metadata": {},
     "output_type": "execute_result"
    }
   ],
   "source": [
    "# filter by positive quantity\n",
    "df = data[data['Quantity']>=0] # This reduces the size of the data to 1,025,878\n",
    "df.shape "
   ]
  },
  {
   "cell_type": "code",
   "execution_count": 211,
   "id": "295897d2-98dc-42c4-80c9-81c96c11c676",
   "metadata": {},
   "outputs": [],
   "source": [
    "df['Quantity'] = df['Quantity'].astype('float')\n",
    "df['Price'] = df['Price'].astype('float')"
   ]
  },
  {
   "cell_type": "code",
   "execution_count": 212,
   "id": "53c4716d-8917-48bb-aeb9-d32c3b4c26ad",
   "metadata": {},
   "outputs": [
    {
     "data": {
      "text/plain": [
       "(1023144, 8)"
      ]
     },
     "execution_count": 212,
     "metadata": {},
     "output_type": "execute_result"
    }
   ],
   "source": [
    "# The neagtive price probably implies on discount on items bought. For the purpose of this project, I excluded negative prices\n",
    "df = df[df['Price']>0] # This reduces the size to 1,023,144\n",
    "df.shape"
   ]
  },
  {
   "cell_type": "code",
   "execution_count": 213,
   "id": "3ee59707-1435-4d21-b11d-3f2c26a05676",
   "metadata": {},
   "outputs": [
    {
     "data": {
      "text/html": [
       "<div>\n",
       "<style scoped>\n",
       "    .dataframe tbody tr th:only-of-type {\n",
       "        vertical-align: middle;\n",
       "    }\n",
       "\n",
       "    .dataframe tbody tr th {\n",
       "        vertical-align: top;\n",
       "    }\n",
       "\n",
       "    .dataframe thead th {\n",
       "        text-align: right;\n",
       "    }\n",
       "</style>\n",
       "<table border=\"1\" class=\"dataframe\">\n",
       "  <thead>\n",
       "    <tr style=\"text-align: right;\">\n",
       "      <th></th>\n",
       "      <th>Quantity</th>\n",
       "      <th>Price</th>\n",
       "      <th>Customer ID</th>\n",
       "    </tr>\n",
       "  </thead>\n",
       "  <tbody>\n",
       "    <tr>\n",
       "      <th>count</th>\n",
       "      <td>1.023144e+06</td>\n",
       "      <td>1.023144e+06</td>\n",
       "      <td>793309.000000</td>\n",
       "    </tr>\n",
       "    <tr>\n",
       "      <th>mean</th>\n",
       "      <td>1.091459e+01</td>\n",
       "      <td>4.073926e+00</td>\n",
       "      <td>15331.994757</td>\n",
       "    </tr>\n",
       "    <tr>\n",
       "      <th>std</th>\n",
       "      <td>9.932386e+01</td>\n",
       "      <td>5.165363e+01</td>\n",
       "      <td>1696.330415</td>\n",
       "    </tr>\n",
       "    <tr>\n",
       "      <th>min</th>\n",
       "      <td>1.000000e+00</td>\n",
       "      <td>1.000000e-03</td>\n",
       "      <td>12346.000000</td>\n",
       "    </tr>\n",
       "    <tr>\n",
       "      <th>25%</th>\n",
       "      <td>1.000000e+00</td>\n",
       "      <td>1.250000e+00</td>\n",
       "      <td>13979.000000</td>\n",
       "    </tr>\n",
       "    <tr>\n",
       "      <th>50%</th>\n",
       "      <td>3.000000e+00</td>\n",
       "      <td>2.100000e+00</td>\n",
       "      <td>15271.000000</td>\n",
       "    </tr>\n",
       "    <tr>\n",
       "      <th>75%</th>\n",
       "      <td>1.000000e+01</td>\n",
       "      <td>4.130000e+00</td>\n",
       "      <td>16801.000000</td>\n",
       "    </tr>\n",
       "    <tr>\n",
       "      <th>max</th>\n",
       "      <td>7.421500e+04</td>\n",
       "      <td>2.511109e+04</td>\n",
       "      <td>18287.000000</td>\n",
       "    </tr>\n",
       "  </tbody>\n",
       "</table>\n",
       "</div>"
      ],
      "text/plain": [
       "           Quantity         Price    Customer ID\n",
       "count  1.023144e+06  1.023144e+06  793309.000000\n",
       "mean   1.091459e+01  4.073926e+00   15331.994757\n",
       "std    9.932386e+01  5.165363e+01    1696.330415\n",
       "min    1.000000e+00  1.000000e-03   12346.000000\n",
       "25%    1.000000e+00  1.250000e+00   13979.000000\n",
       "50%    3.000000e+00  2.100000e+00   15271.000000\n",
       "75%    1.000000e+01  4.130000e+00   16801.000000\n",
       "max    7.421500e+04  2.511109e+04   18287.000000"
      ]
     },
     "execution_count": 213,
     "metadata": {},
     "output_type": "execute_result"
    }
   ],
   "source": [
    "df.describe()"
   ]
  },
  {
   "cell_type": "code",
   "execution_count": 214,
   "id": "f48bd322-7634-45c7-96c5-6eff2eee6456",
   "metadata": {},
   "outputs": [
    {
     "data": {
      "text/html": [
       "<div>\n",
       "<style scoped>\n",
       "    .dataframe tbody tr th:only-of-type {\n",
       "        vertical-align: middle;\n",
       "    }\n",
       "\n",
       "    .dataframe tbody tr th {\n",
       "        vertical-align: top;\n",
       "    }\n",
       "\n",
       "    .dataframe thead th {\n",
       "        text-align: right;\n",
       "    }\n",
       "</style>\n",
       "<table border=\"1\" class=\"dataframe\">\n",
       "  <thead>\n",
       "    <tr style=\"text-align: right;\">\n",
       "      <th></th>\n",
       "      <th>Invoice</th>\n",
       "      <th>StockCode</th>\n",
       "      <th>Description</th>\n",
       "      <th>Quantity</th>\n",
       "      <th>InvoiceDate</th>\n",
       "      <th>Price</th>\n",
       "      <th>Customer ID</th>\n",
       "      <th>Country</th>\n",
       "      <th>TotalSum</th>\n",
       "    </tr>\n",
       "  </thead>\n",
       "  <tbody>\n",
       "    <tr>\n",
       "      <th>0</th>\n",
       "      <td>489434</td>\n",
       "      <td>85048</td>\n",
       "      <td>15CM CHRISTMAS GLASS BALL 20 LIGHTS</td>\n",
       "      <td>12.0</td>\n",
       "      <td>2009-01-12 07:45:00</td>\n",
       "      <td>6.95</td>\n",
       "      <td>13085.0</td>\n",
       "      <td>United Kingdom</td>\n",
       "      <td>83.4</td>\n",
       "    </tr>\n",
       "  </tbody>\n",
       "</table>\n",
       "</div>"
      ],
      "text/plain": [
       "  Invoice StockCode                          Description  Quantity  \\\n",
       "0  489434     85048  15CM CHRISTMAS GLASS BALL 20 LIGHTS      12.0   \n",
       "\n",
       "          InvoiceDate  Price  Customer ID         Country  TotalSum  \n",
       "0 2009-01-12 07:45:00   6.95      13085.0  United Kingdom      83.4  "
      ]
     },
     "execution_count": 214,
     "metadata": {},
     "output_type": "execute_result"
    }
   ],
   "source": [
    "df['TotalSum'] = df['Quantity'] * df['Price']\n",
    "df.head(1)"
   ]
  },
  {
   "cell_type": "code",
   "execution_count": 215,
   "id": "5911896a-15ba-4b98-ab95-45403f60aeb6",
   "metadata": {},
   "outputs": [
    {
     "data": {
      "text/plain": [
       "Timestamp('2011-12-11 17:19:00')"
      ]
     },
     "execution_count": 215,
     "metadata": {},
     "output_type": "execute_result"
    }
   ],
   "source": [
    "## I created a hypothetical date to use as a starting point to calculate metrics as if we are doing analysis on the most recent data\n",
    "snapshot_date = max(df.InvoiceDate) + datetime.timedelta(days=1)\n",
    "snapshot_date"
   ]
  },
  {
   "cell_type": "markdown",
   "id": "9ab29301-e0f7-4dc9-bd71-55cc5c975390",
   "metadata": {},
   "source": [
    "#### Calculate RFM Metrics"
   ]
  },
  {
   "cell_type": "markdown",
   "id": "17c9473b-686f-4564-90e0-46994414f011",
   "metadata": {},
   "source": [
    "##### For RFM analysis, We need a few details of each Customer:\n",
    "\n",
    "- Customer ID - A uniqiue identifier to identify each cuistomer\n",
    "- Recency (R) as days since last purchase: How many days ago was their last purchase? \n",
    "- Frequency (F) as the total number of transactions: How many times has the customer made a purchase? \n",
    "- Monetary (M) as total money spent: How much has this customer spent? This is gotten by summing up the amount from all transactions to get the M value.\n",
    "\n",
    "To extract these values, we only need the following columns:\n",
    "\n",
    "‘Customer ID’, ‘Invoice’, ‘Invoice Date’ and ‘TotalSum (which was gotten by multiplying quantity and price above)’"
   ]
  },
  {
   "cell_type": "code",
   "execution_count": 216,
   "id": "2ed3b5b1-2ee7-4776-b34a-cb056de715f1",
   "metadata": {},
   "outputs": [
    {
     "data": {
      "text/html": [
       "<div>\n",
       "<style scoped>\n",
       "    .dataframe tbody tr th:only-of-type {\n",
       "        vertical-align: middle;\n",
       "    }\n",
       "\n",
       "    .dataframe tbody tr th {\n",
       "        vertical-align: top;\n",
       "    }\n",
       "\n",
       "    .dataframe thead th {\n",
       "        text-align: right;\n",
       "    }\n",
       "</style>\n",
       "<table border=\"1\" class=\"dataframe\">\n",
       "  <thead>\n",
       "    <tr style=\"text-align: right;\">\n",
       "      <th></th>\n",
       "      <th>InvoiceDate</th>\n",
       "      <th>Invoice</th>\n",
       "      <th>TotalSum</th>\n",
       "    </tr>\n",
       "    <tr>\n",
       "      <th>Customer ID</th>\n",
       "      <th></th>\n",
       "      <th></th>\n",
       "      <th></th>\n",
       "    </tr>\n",
       "  </thead>\n",
       "  <tbody>\n",
       "    <tr>\n",
       "      <th>12346.0</th>\n",
       "      <td>327</td>\n",
       "      <td>12</td>\n",
       "      <td>77556.46</td>\n",
       "    </tr>\n",
       "    <tr>\n",
       "      <th>12347.0</th>\n",
       "      <td>41</td>\n",
       "      <td>7</td>\n",
       "      <td>5408.50</td>\n",
       "    </tr>\n",
       "    <tr>\n",
       "      <th>12348.0</th>\n",
       "      <td>77</td>\n",
       "      <td>5</td>\n",
       "      <td>2019.40</td>\n",
       "    </tr>\n",
       "    <tr>\n",
       "      <th>12349.0</th>\n",
       "      <td>20</td>\n",
       "      <td>4</td>\n",
       "      <td>4428.69</td>\n",
       "    </tr>\n",
       "    <tr>\n",
       "      <th>12350.0</th>\n",
       "      <td>312</td>\n",
       "      <td>1</td>\n",
       "      <td>334.40</td>\n",
       "    </tr>\n",
       "  </tbody>\n",
       "</table>\n",
       "</div>"
      ],
      "text/plain": [
       "             InvoiceDate  Invoice  TotalSum\n",
       "Customer ID                                \n",
       "12346.0              327       12  77556.46\n",
       "12347.0               41        7   5408.50\n",
       "12348.0               77        5   2019.40\n",
       "12349.0               20        4   4428.69\n",
       "12350.0              312        1    334.40"
      ]
     },
     "execution_count": 216,
     "metadata": {},
     "output_type": "execute_result"
    }
   ],
   "source": [
    "#Aggregate data on customer level\n",
    "new_data = df.groupby(['Customer ID']).agg({\n",
    "                                    'InvoiceDate': lambda x: (snapshot_date - x.max()).days,  #gives the number of days between hypothetical today and day of last transaction\n",
    "                                     'Invoice':lambda x : len(x.unique()),\n",
    "                                     'TotalSum': 'sum'})\n",
    "new_data.head()"
   ]
  },
  {
   "cell_type": "code",
   "execution_count": 217,
   "id": "d38576ff-ebbe-4db9-9e9f-0293aab64351",
   "metadata": {},
   "outputs": [
    {
     "data": {
      "text/html": [
       "<div>\n",
       "<style scoped>\n",
       "    .dataframe tbody tr th:only-of-type {\n",
       "        vertical-align: middle;\n",
       "    }\n",
       "\n",
       "    .dataframe tbody tr th {\n",
       "        vertical-align: top;\n",
       "    }\n",
       "\n",
       "    .dataframe thead th {\n",
       "        text-align: right;\n",
       "    }\n",
       "</style>\n",
       "<table border=\"1\" class=\"dataframe\">\n",
       "  <thead>\n",
       "    <tr style=\"text-align: right;\">\n",
       "      <th></th>\n",
       "      <th>Recency</th>\n",
       "      <th>Frequency</th>\n",
       "      <th>Monetary Value</th>\n",
       "    </tr>\n",
       "    <tr>\n",
       "      <th>Customer ID</th>\n",
       "      <th></th>\n",
       "      <th></th>\n",
       "      <th></th>\n",
       "    </tr>\n",
       "  </thead>\n",
       "  <tbody>\n",
       "    <tr>\n",
       "      <th>12346.0</th>\n",
       "      <td>327</td>\n",
       "      <td>12</td>\n",
       "      <td>77556.46</td>\n",
       "    </tr>\n",
       "  </tbody>\n",
       "</table>\n",
       "</div>"
      ],
      "text/plain": [
       "             Recency  Frequency  Monetary Value\n",
       "Customer ID                                    \n",
       "12346.0          327         12        77556.46"
      ]
     },
     "execution_count": 217,
     "metadata": {},
     "output_type": "execute_result"
    }
   ],
   "source": [
    "# Rename columns\n",
    "new_data = new_data.rename(columns={'InvoiceDate':'Recency',\n",
    "                         'Invoice' : 'Frequency',\n",
    "                         'TotalSum' : 'Monetary Value'})\n",
    "new_data.head(1)"
   ]
  },
  {
   "cell_type": "markdown",
   "id": "db80f983-9993-4f72-9fb0-7a35068e1d67",
   "metadata": {},
   "source": [
    "#### Building RFM Segments"
   ]
  },
  {
   "cell_type": "code",
   "execution_count": 218,
   "id": "5bf2bda1-d256-405b-aa50-edb5fce0b249",
   "metadata": {},
   "outputs": [],
   "source": [
    "# Recency Quartile\n",
    "r_labels = range(3, 0, -1) # The lower the recency value, the more recently the customer purchased\n",
    "r_quartiles = pd.qcut(new_data['Recency'], 3, labels=r_labels)\n",
    "new_data = new_data.assign(R = r_quartiles.values) "
   ]
  },
  {
   "cell_type": "code",
   "execution_count": 219,
   "id": "b27c9303-305c-41bb-a885-e10e7693dd97",
   "metadata": {},
   "outputs": [],
   "source": [
    "# Frequency and Monetary Value Quartile\n",
    "f_labels= range(1,4)\n",
    "m_labels = range(1, 4)\n",
    "f_quartiles = pd.qcut(new_data['Frequency'], 3, labels=f_labels)\n",
    "m_quartiles = pd.qcut(new_data['Monetary Value'], 3, labels=m_labels)\n",
    "\n",
    "new_data = new_data.assign(F = f_quartiles.values)\n",
    "new_data = new_data.assign(M = m_quartiles.values)"
   ]
  },
  {
   "cell_type": "code",
   "execution_count": 220,
   "id": "b653570b-c7cf-4669-974f-434c4fda2aef",
   "metadata": {},
   "outputs": [],
   "source": [
    "# change the datatype of rfm segments\n",
    "new_data[['R', 'F', 'M']] = new_data[['R', 'F', 'M']].astype('int')"
   ]
  },
  {
   "cell_type": "markdown",
   "id": "652ed897-7a38-4104-b088-315c1e1d0166",
   "metadata": {},
   "source": [
    "#### Building RFM Segment and RFM Score"
   ]
  },
  {
   "cell_type": "code",
   "execution_count": 221,
   "id": "b0379d2d-1b6c-4179-bdeb-59167fe11e98",
   "metadata": {},
   "outputs": [],
   "source": [
    "# Sum RFM Quartile value to get RFM Score\n",
    "def join_rfm(x):\n",
    "    return (str(x['R']) + str(x['F']) + str(x['M']))"
   ]
  },
  {
   "cell_type": "code",
   "execution_count": 222,
   "id": "2f4aae21-42c3-4ff6-9664-f3cb02d5f57f",
   "metadata": {},
   "outputs": [],
   "source": [
    "new_data['RFM_Segment'] = new_data.apply(join_rfm, axis=1)\n",
    "new_data['RFM_Score'] = new_data[['R', 'F', 'M']].sum(axis=1)"
   ]
  },
  {
   "cell_type": "code",
   "execution_count": 223,
   "id": "fad04545-31a6-48fc-9a89-a3ef6b8bd0e3",
   "metadata": {},
   "outputs": [
    {
     "data": {
      "text/html": [
       "<div>\n",
       "<style scoped>\n",
       "    .dataframe tbody tr th:only-of-type {\n",
       "        vertical-align: middle;\n",
       "    }\n",
       "\n",
       "    .dataframe tbody tr th {\n",
       "        vertical-align: top;\n",
       "    }\n",
       "\n",
       "    .dataframe thead th {\n",
       "        text-align: right;\n",
       "    }\n",
       "</style>\n",
       "<table border=\"1\" class=\"dataframe\">\n",
       "  <thead>\n",
       "    <tr style=\"text-align: right;\">\n",
       "      <th></th>\n",
       "      <th>Recency</th>\n",
       "      <th>Frequency</th>\n",
       "      <th>Monetary Value</th>\n",
       "      <th>R</th>\n",
       "      <th>F</th>\n",
       "      <th>M</th>\n",
       "      <th>RFM_Segment</th>\n",
       "      <th>RFM_Score</th>\n",
       "    </tr>\n",
       "    <tr>\n",
       "      <th>Customer ID</th>\n",
       "      <th></th>\n",
       "      <th></th>\n",
       "      <th></th>\n",
       "      <th></th>\n",
       "      <th></th>\n",
       "      <th></th>\n",
       "      <th></th>\n",
       "      <th></th>\n",
       "    </tr>\n",
       "  </thead>\n",
       "  <tbody>\n",
       "    <tr>\n",
       "      <th>12346.0</th>\n",
       "      <td>327</td>\n",
       "      <td>12</td>\n",
       "      <td>77556.46</td>\n",
       "      <td>1</td>\n",
       "      <td>3</td>\n",
       "      <td>3</td>\n",
       "      <td>1.03.03.0</td>\n",
       "      <td>7</td>\n",
       "    </tr>\n",
       "    <tr>\n",
       "      <th>12347.0</th>\n",
       "      <td>41</td>\n",
       "      <td>7</td>\n",
       "      <td>5408.50</td>\n",
       "      <td>3</td>\n",
       "      <td>3</td>\n",
       "      <td>3</td>\n",
       "      <td>3.03.03.0</td>\n",
       "      <td>9</td>\n",
       "    </tr>\n",
       "    <tr>\n",
       "      <th>12348.0</th>\n",
       "      <td>77</td>\n",
       "      <td>5</td>\n",
       "      <td>2019.40</td>\n",
       "      <td>2</td>\n",
       "      <td>2</td>\n",
       "      <td>3</td>\n",
       "      <td>2.02.03.0</td>\n",
       "      <td>7</td>\n",
       "    </tr>\n",
       "    <tr>\n",
       "      <th>12349.0</th>\n",
       "      <td>20</td>\n",
       "      <td>4</td>\n",
       "      <td>4428.69</td>\n",
       "      <td>3</td>\n",
       "      <td>2</td>\n",
       "      <td>3</td>\n",
       "      <td>3.02.03.0</td>\n",
       "      <td>8</td>\n",
       "    </tr>\n",
       "    <tr>\n",
       "      <th>12350.0</th>\n",
       "      <td>312</td>\n",
       "      <td>1</td>\n",
       "      <td>334.40</td>\n",
       "      <td>1</td>\n",
       "      <td>1</td>\n",
       "      <td>1</td>\n",
       "      <td>1.01.01.0</td>\n",
       "      <td>3</td>\n",
       "    </tr>\n",
       "  </tbody>\n",
       "</table>\n",
       "</div>"
      ],
      "text/plain": [
       "             Recency  Frequency  Monetary Value  R  F  M RFM_Segment  \\\n",
       "Customer ID                                                            \n",
       "12346.0          327         12        77556.46  1  3  3   1.03.03.0   \n",
       "12347.0           41          7         5408.50  3  3  3   3.03.03.0   \n",
       "12348.0           77          5         2019.40  2  2  3   2.02.03.0   \n",
       "12349.0           20          4         4428.69  3  2  3   3.02.03.0   \n",
       "12350.0          312          1          334.40  1  1  1   1.01.01.0   \n",
       "\n",
       "             RFM_Score  \n",
       "Customer ID             \n",
       "12346.0              7  \n",
       "12347.0              9  \n",
       "12348.0              7  \n",
       "12349.0              8  \n",
       "12350.0              3  "
      ]
     },
     "execution_count": 223,
     "metadata": {},
     "output_type": "execute_result"
    }
   ],
   "source": [
    "new_data.head()"
   ]
  },
  {
   "cell_type": "markdown",
   "id": "f58585d9-1114-43b4-b2ce-282797e61c64",
   "metadata": {},
   "source": [
    "#### Analyzing RFM Table"
   ]
  },
  {
   "cell_type": "code",
   "execution_count": 224,
   "id": "9446a549-bc85-476a-9f68-f682cc898e0d",
   "metadata": {},
   "outputs": [
    {
     "data": {
      "text/plain": [
       "RFM_Segment\n",
       "1.01.01.0    1079\n",
       "3.03.03.0     970\n",
       "2.01.01.0     478\n",
       "2.03.03.0     476\n",
       "2.02.02.0     376\n",
       "1.01.02.0     331\n",
       "3.02.02.0     323\n",
       "2.01.02.0     266\n",
       "1.02.02.0     261\n",
       "3.01.01.0     212\n",
       "dtype: int64"
      ]
     },
     "execution_count": 224,
     "metadata": {},
     "output_type": "execute_result"
    }
   ],
   "source": [
    "new_data.groupby('RFM_Segment').size().sort_values(ascending=False)[:10] #top 10 largest rfm segments"
   ]
  },
  {
   "cell_type": "code",
   "execution_count": 225,
   "id": "a2649c50-4e18-4239-8452-220f19723f4c",
   "metadata": {},
   "outputs": [
    {
     "data": {
      "text/html": [
       "<div>\n",
       "<style scoped>\n",
       "    .dataframe tbody tr th:only-of-type {\n",
       "        vertical-align: middle;\n",
       "    }\n",
       "\n",
       "    .dataframe tbody tr th {\n",
       "        vertical-align: top;\n",
       "    }\n",
       "\n",
       "    .dataframe thead tr th {\n",
       "        text-align: left;\n",
       "    }\n",
       "\n",
       "    .dataframe thead tr:last-of-type th {\n",
       "        text-align: right;\n",
       "    }\n",
       "</style>\n",
       "<table border=\"1\" class=\"dataframe\">\n",
       "  <thead>\n",
       "    <tr>\n",
       "      <th></th>\n",
       "      <th>Recency</th>\n",
       "      <th>Frequency</th>\n",
       "      <th colspan=\"2\" halign=\"left\">Monetary Value</th>\n",
       "    </tr>\n",
       "    <tr>\n",
       "      <th></th>\n",
       "      <th>mean</th>\n",
       "      <th>mean</th>\n",
       "      <th>mean</th>\n",
       "      <th>count</th>\n",
       "    </tr>\n",
       "    <tr>\n",
       "      <th>RFM_Score</th>\n",
       "      <th></th>\n",
       "      <th></th>\n",
       "      <th></th>\n",
       "      <th></th>\n",
       "    </tr>\n",
       "  </thead>\n",
       "  <tbody>\n",
       "    <tr>\n",
       "      <th>3</th>\n",
       "      <td>514.6</td>\n",
       "      <td>1.2</td>\n",
       "      <td>228.4</td>\n",
       "      <td>1079</td>\n",
       "    </tr>\n",
       "    <tr>\n",
       "      <th>4</th>\n",
       "      <td>291.6</td>\n",
       "      <td>1.5</td>\n",
       "      <td>454.1</td>\n",
       "      <td>857</td>\n",
       "    </tr>\n",
       "    <tr>\n",
       "      <th>5</th>\n",
       "      <td>212.9</td>\n",
       "      <td>2.4</td>\n",
       "      <td>791.4</td>\n",
       "      <td>860</td>\n",
       "    </tr>\n",
       "    <tr>\n",
       "      <th>6</th>\n",
       "      <td>153.6</td>\n",
       "      <td>3.4</td>\n",
       "      <td>1205.3</td>\n",
       "      <td>717</td>\n",
       "    </tr>\n",
       "    <tr>\n",
       "      <th>7</th>\n",
       "      <td>107.1</td>\n",
       "      <td>5.4</td>\n",
       "      <td>2175.9</td>\n",
       "      <td>660</td>\n",
       "    </tr>\n",
       "    <tr>\n",
       "      <th>8</th>\n",
       "      <td>84.6</td>\n",
       "      <td>9.5</td>\n",
       "      <td>4135.2</td>\n",
       "      <td>717</td>\n",
       "    </tr>\n",
       "    <tr>\n",
       "      <th>9</th>\n",
       "      <td>19.3</td>\n",
       "      <td>19.7</td>\n",
       "      <td>11075.8</td>\n",
       "      <td>970</td>\n",
       "    </tr>\n",
       "  </tbody>\n",
       "</table>\n",
       "</div>"
      ],
      "text/plain": [
       "          Recency Frequency Monetary Value      \n",
       "             mean      mean           mean count\n",
       "RFM_Score                                       \n",
       "3           514.6       1.2          228.4  1079\n",
       "4           291.6       1.5          454.1   857\n",
       "5           212.9       2.4          791.4   860\n",
       "6           153.6       3.4         1205.3   717\n",
       "7           107.1       5.4         2175.9   660\n",
       "8            84.6       9.5         4135.2   717\n",
       "9            19.3      19.7        11075.8   970"
      ]
     },
     "execution_count": 225,
     "metadata": {},
     "output_type": "execute_result"
    }
   ],
   "source": [
    "# Summary metrics by RFM score\n",
    "new_data.groupby('RFM_Score').agg({'Recency' : 'mean',\n",
    "                                  'Frequency': 'mean',\n",
    "                                   'Monetary Value' : ['mean', 'count'] }).round(1)\n",
    "                                                                  "
   ]
  },
  {
   "cell_type": "code",
   "execution_count": 226,
   "id": "ebd868bb-fd6d-4294-8de8-690d41b42c7f",
   "metadata": {},
   "outputs": [
    {
     "name": "stdout",
     "output_type": "stream",
     "text": [
      "             Recency  Frequency  Monetary Value  R  F  M RFM_Segment  \\\n",
      "Customer ID                                                            \n",
      "12346.0          327         12        77556.46  1  3  3   1.03.03.0   \n",
      "12347.0           41          7         5408.50  3  3  3   3.03.03.0   \n",
      "12348.0           77          5         2019.40  2  2  3   2.02.03.0   \n",
      "12349.0           20          4         4428.69  3  2  3   3.02.03.0   \n",
      "12350.0          312          1          334.40  1  1  1   1.01.01.0   \n",
      "\n",
      "             RFM_Score RFM_Level  \n",
      "Customer ID                       \n",
      "12346.0              7    Middle  \n",
      "12347.0              9    Middle  \n",
      "12348.0              7    Middle  \n",
      "12349.0              8    Middle  \n",
      "12350.0              3       Low  \n"
     ]
    }
   ],
   "source": [
    "# Define rfm_level function\n",
    "def rfm_level(df):\n",
    "    if df['RFM_Score'] >= 10:\n",
    "        return 'Top'\n",
    "    elif ((df['RFM_Score'] >= 6) and (df['RFM_Score'] < 10)):\n",
    "        return 'Middle'\n",
    "    else:\n",
    "        return 'Low'\n",
    "\n",
    "# Create a new variable RFM_Level\n",
    "new_data['RFM_Level'] = new_data.apply(rfm_level, axis=1)\n",
    "\n",
    "# Print the header with top 5 rows\n",
    "print(new_data.head())"
   ]
  },
  {
   "cell_type": "code",
   "execution_count": 227,
   "id": "8bfa114a-0983-4e4d-976a-f0582aeac273",
   "metadata": {},
   "outputs": [
    {
     "name": "stdout",
     "output_type": "stream",
     "text": [
      "          Recency Frequency Monetary Value      \n",
      "             mean      mean           mean count\n",
      "RFM_Level                                       \n",
      "Low         353.4       1.7          470.7  2796\n",
      "Middle       84.9      10.4         5224.8  3064\n"
     ]
    }
   ],
   "source": [
    "# Calculate average values for each RFM_Level, and return a size of each segment \n",
    "rfm_level_agg = new_data.groupby('RFM_Level').agg({\n",
    "    'Recency': 'mean',\n",
    "    'Frequency': 'mean',\n",
    "    'Monetary Value': ['mean', 'count']\n",
    "}).round(1)\n",
    "\n",
    "# Print the aggregated dataset\n",
    "print(rfm_level_agg)"
   ]
  },
  {
   "cell_type": "markdown",
   "id": "f1a489be-a50c-4344-88d6-00e8d3e1c172",
   "metadata": {},
   "source": [
    "##### \n",
    "From the RFM Levels above , we can identify high value customers, medium value customers and low value customers. The count of values in each segment shows that a greater percentage of customers represented in this dataset are low value customers, with high valued customers representing a much smaller percentage.\n",
    "\n",
    "Note: Customers can be divided into as many groups/segments based on rules defined by the business, as different business purposes will determine the types of grouping and in turn the different strategies to adopt."
   ]
  },
  {
   "cell_type": "code",
   "execution_count": null,
   "id": "be53c390-0701-406a-80e6-b223e320582c",
   "metadata": {},
   "outputs": [],
   "source": []
  },
  {
   "cell_type": "code",
   "execution_count": null,
   "id": "f0803ee4-5ebe-4594-9f4b-5cbc8c007e04",
   "metadata": {},
   "outputs": [],
   "source": []
  },
  {
   "cell_type": "code",
   "execution_count": null,
   "id": "f26b196e-d00e-4758-930c-a68d5d9e7321",
   "metadata": {},
   "outputs": [],
   "source": []
  },
  {
   "cell_type": "code",
   "execution_count": null,
   "id": "45d05ff8-d9e7-42d3-97fb-13c75b31ba50",
   "metadata": {},
   "outputs": [],
   "source": []
  },
  {
   "cell_type": "code",
   "execution_count": null,
   "id": "9d8e589e-d1ce-43e8-b8e7-af7d3cdbb4d2",
   "metadata": {},
   "outputs": [],
   "source": []
  },
  {
   "cell_type": "code",
   "execution_count": null,
   "id": "c63cfed4-f7ec-4a83-85e9-876298e47df8",
   "metadata": {},
   "outputs": [],
   "source": []
  },
  {
   "cell_type": "code",
   "execution_count": null,
   "id": "fb3a9289-6521-4d8a-bbaa-95f11cd3528d",
   "metadata": {},
   "outputs": [],
   "source": []
  },
  {
   "cell_type": "code",
   "execution_count": null,
   "id": "104b91c6-8304-4431-b37c-06e2ef445466",
   "metadata": {},
   "outputs": [],
   "source": []
  },
  {
   "cell_type": "code",
   "execution_count": null,
   "id": "8dc29cf0-df91-4458-8ce0-dd5e2c9dca1c",
   "metadata": {},
   "outputs": [],
   "source": []
  },
  {
   "cell_type": "code",
   "execution_count": null,
   "id": "512119aa-8b56-4a9e-a2c7-0eaf1d55bbbd",
   "metadata": {},
   "outputs": [],
   "source": []
  },
  {
   "cell_type": "code",
   "execution_count": null,
   "id": "9cf8fafd-ee6a-4a26-bc91-3187dc61db5a",
   "metadata": {},
   "outputs": [],
   "source": []
  },
  {
   "cell_type": "code",
   "execution_count": null,
   "id": "f3981ced-0f81-4175-8795-ca741aafa0a6",
   "metadata": {},
   "outputs": [],
   "source": []
  },
  {
   "cell_type": "code",
   "execution_count": null,
   "id": "377b8702-4374-4349-861b-a0fe9c60f1ee",
   "metadata": {},
   "outputs": [],
   "source": []
  },
  {
   "cell_type": "code",
   "execution_count": null,
   "id": "57b999da-039f-46cd-b326-d1052b0012ef",
   "metadata": {},
   "outputs": [],
   "source": []
  },
  {
   "cell_type": "code",
   "execution_count": null,
   "id": "0aaccc80-fb3a-4816-a388-e1aa5b8ac27b",
   "metadata": {},
   "outputs": [],
   "source": []
  },
  {
   "cell_type": "code",
   "execution_count": null,
   "id": "ddd64f15-9782-4737-b0d0-9dae334b6b3f",
   "metadata": {},
   "outputs": [],
   "source": []
  },
  {
   "cell_type": "code",
   "execution_count": null,
   "id": "1050e659-33b3-464f-8d64-4d8c22fcd4f5",
   "metadata": {},
   "outputs": [],
   "source": []
  }
 ],
 "metadata": {
  "kernelspec": {
   "display_name": "Python 3 (ipykernel)",
   "language": "python",
   "name": "python3"
  },
  "language_info": {
   "codemirror_mode": {
    "name": "ipython",
    "version": 3
   },
   "file_extension": ".py",
   "mimetype": "text/x-python",
   "name": "python",
   "nbconvert_exporter": "python",
   "pygments_lexer": "ipython3",
   "version": "3.9.12"
  }
 },
 "nbformat": 4,
 "nbformat_minor": 5
}
